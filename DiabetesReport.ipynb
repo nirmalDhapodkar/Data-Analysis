{
  "cells": [
    {
      "cell_type": "markdown",
      "id": "94ca24d3-1bd0-4d57-bdd3-89f791285e54",
      "metadata": {
        "id": "94ca24d3-1bd0-4d57-bdd3-89f791285e54"
      },
      "source": [
        "# **Report on Analysis of Diabetes Data** ❤️‍🩹🩺"
      ]
    },
    {
      "cell_type": "code",
      "execution_count": null,
      "id": "45936309-6853-42c3-8917-50e83d7f850f",
      "metadata": {
        "id": "45936309-6853-42c3-8917-50e83d7f850f"
      },
      "outputs": [],
      "source": [
        "import numpy as np\n",
        "import pandas as pd"
      ]
    },
    {
      "cell_type": "markdown",
      "source": [
        "✅ Loading diabetes dataset and previewing it, as well as loading information about columns , missing data, and data types"
      ],
      "metadata": {
        "id": "MeuHT5jNm5wR"
      },
      "id": "MeuHT5jNm5wR"
    },
    {
      "cell_type": "code",
      "execution_count": null,
      "id": "fd7da0db-826d-4268-a50b-5b3f2095111c",
      "metadata": {
        "colab": {
          "base_uri": "https://localhost:8080/",
          "height": 206
        },
        "id": "fd7da0db-826d-4268-a50b-5b3f2095111c",
        "outputId": "eef5b767-0cc7-4550-abea-aa73e203a2d0"
      },
      "outputs": [
        {
          "output_type": "execute_result",
          "data": {
            "text/plain": [
              "   Pregnancies  Glucose  BloodPressure  SkinThickness  Insulin   BMI  \\\n",
              "0            6      148             72             35        0  33.6   \n",
              "1            1       85             66             29        0  26.6   \n",
              "2            8      183             64              0        0  23.3   \n",
              "3            1       89             66             23       94  28.1   \n",
              "4            0      137             40             35      168  43.1   \n",
              "\n",
              "   DiabetesPedigreeFunction  Age  Outcome  \n",
              "0                     0.627   50        1  \n",
              "1                     0.351   31        0  \n",
              "2                     0.672   32        1  \n",
              "3                     0.167   21        0  \n",
              "4                     2.288   33        1  "
            ],
            "text/html": [
              "\n",
              "  <div id=\"df-38aec647-a302-45c3-b2bf-9e7171859354\" class=\"colab-df-container\">\n",
              "    <div>\n",
              "<style scoped>\n",
              "    .dataframe tbody tr th:only-of-type {\n",
              "        vertical-align: middle;\n",
              "    }\n",
              "\n",
              "    .dataframe tbody tr th {\n",
              "        vertical-align: top;\n",
              "    }\n",
              "\n",
              "    .dataframe thead th {\n",
              "        text-align: right;\n",
              "    }\n",
              "</style>\n",
              "<table border=\"1\" class=\"dataframe\">\n",
              "  <thead>\n",
              "    <tr style=\"text-align: right;\">\n",
              "      <th></th>\n",
              "      <th>Pregnancies</th>\n",
              "      <th>Glucose</th>\n",
              "      <th>BloodPressure</th>\n",
              "      <th>SkinThickness</th>\n",
              "      <th>Insulin</th>\n",
              "      <th>BMI</th>\n",
              "      <th>DiabetesPedigreeFunction</th>\n",
              "      <th>Age</th>\n",
              "      <th>Outcome</th>\n",
              "    </tr>\n",
              "  </thead>\n",
              "  <tbody>\n",
              "    <tr>\n",
              "      <th>0</th>\n",
              "      <td>6</td>\n",
              "      <td>148</td>\n",
              "      <td>72</td>\n",
              "      <td>35</td>\n",
              "      <td>0</td>\n",
              "      <td>33.6</td>\n",
              "      <td>0.627</td>\n",
              "      <td>50</td>\n",
              "      <td>1</td>\n",
              "    </tr>\n",
              "    <tr>\n",
              "      <th>1</th>\n",
              "      <td>1</td>\n",
              "      <td>85</td>\n",
              "      <td>66</td>\n",
              "      <td>29</td>\n",
              "      <td>0</td>\n",
              "      <td>26.6</td>\n",
              "      <td>0.351</td>\n",
              "      <td>31</td>\n",
              "      <td>0</td>\n",
              "    </tr>\n",
              "    <tr>\n",
              "      <th>2</th>\n",
              "      <td>8</td>\n",
              "      <td>183</td>\n",
              "      <td>64</td>\n",
              "      <td>0</td>\n",
              "      <td>0</td>\n",
              "      <td>23.3</td>\n",
              "      <td>0.672</td>\n",
              "      <td>32</td>\n",
              "      <td>1</td>\n",
              "    </tr>\n",
              "    <tr>\n",
              "      <th>3</th>\n",
              "      <td>1</td>\n",
              "      <td>89</td>\n",
              "      <td>66</td>\n",
              "      <td>23</td>\n",
              "      <td>94</td>\n",
              "      <td>28.1</td>\n",
              "      <td>0.167</td>\n",
              "      <td>21</td>\n",
              "      <td>0</td>\n",
              "    </tr>\n",
              "    <tr>\n",
              "      <th>4</th>\n",
              "      <td>0</td>\n",
              "      <td>137</td>\n",
              "      <td>40</td>\n",
              "      <td>35</td>\n",
              "      <td>168</td>\n",
              "      <td>43.1</td>\n",
              "      <td>2.288</td>\n",
              "      <td>33</td>\n",
              "      <td>1</td>\n",
              "    </tr>\n",
              "  </tbody>\n",
              "</table>\n",
              "</div>\n",
              "    <div class=\"colab-df-buttons\">\n",
              "\n",
              "  <div class=\"colab-df-container\">\n",
              "    <button class=\"colab-df-convert\" onclick=\"convertToInteractive('df-38aec647-a302-45c3-b2bf-9e7171859354')\"\n",
              "            title=\"Convert this dataframe to an interactive table.\"\n",
              "            style=\"display:none;\">\n",
              "\n",
              "  <svg xmlns=\"http://www.w3.org/2000/svg\" height=\"24px\" viewBox=\"0 -960 960 960\">\n",
              "    <path d=\"M120-120v-720h720v720H120Zm60-500h600v-160H180v160Zm220 220h160v-160H400v160Zm0 220h160v-160H400v160ZM180-400h160v-160H180v160Zm440 0h160v-160H620v160ZM180-180h160v-160H180v160Zm440 0h160v-160H620v160Z\"/>\n",
              "  </svg>\n",
              "    </button>\n",
              "\n",
              "  <style>\n",
              "    .colab-df-container {\n",
              "      display:flex;\n",
              "      gap: 12px;\n",
              "    }\n",
              "\n",
              "    .colab-df-convert {\n",
              "      background-color: #E8F0FE;\n",
              "      border: none;\n",
              "      border-radius: 50%;\n",
              "      cursor: pointer;\n",
              "      display: none;\n",
              "      fill: #1967D2;\n",
              "      height: 32px;\n",
              "      padding: 0 0 0 0;\n",
              "      width: 32px;\n",
              "    }\n",
              "\n",
              "    .colab-df-convert:hover {\n",
              "      background-color: #E2EBFA;\n",
              "      box-shadow: 0px 1px 2px rgba(60, 64, 67, 0.3), 0px 1px 3px 1px rgba(60, 64, 67, 0.15);\n",
              "      fill: #174EA6;\n",
              "    }\n",
              "\n",
              "    .colab-df-buttons div {\n",
              "      margin-bottom: 4px;\n",
              "    }\n",
              "\n",
              "    [theme=dark] .colab-df-convert {\n",
              "      background-color: #3B4455;\n",
              "      fill: #D2E3FC;\n",
              "    }\n",
              "\n",
              "    [theme=dark] .colab-df-convert:hover {\n",
              "      background-color: #434B5C;\n",
              "      box-shadow: 0px 1px 3px 1px rgba(0, 0, 0, 0.15);\n",
              "      filter: drop-shadow(0px 1px 2px rgba(0, 0, 0, 0.3));\n",
              "      fill: #FFFFFF;\n",
              "    }\n",
              "  </style>\n",
              "\n",
              "    <script>\n",
              "      const buttonEl =\n",
              "        document.querySelector('#df-38aec647-a302-45c3-b2bf-9e7171859354 button.colab-df-convert');\n",
              "      buttonEl.style.display =\n",
              "        google.colab.kernel.accessAllowed ? 'block' : 'none';\n",
              "\n",
              "      async function convertToInteractive(key) {\n",
              "        const element = document.querySelector('#df-38aec647-a302-45c3-b2bf-9e7171859354');\n",
              "        const dataTable =\n",
              "          await google.colab.kernel.invokeFunction('convertToInteractive',\n",
              "                                                    [key], {});\n",
              "        if (!dataTable) return;\n",
              "\n",
              "        const docLinkHtml = 'Like what you see? Visit the ' +\n",
              "          '<a target=\"_blank\" href=https://colab.research.google.com/notebooks/data_table.ipynb>data table notebook</a>'\n",
              "          + ' to learn more about interactive tables.';\n",
              "        element.innerHTML = '';\n",
              "        dataTable['output_type'] = 'display_data';\n",
              "        await google.colab.output.renderOutput(dataTable, element);\n",
              "        const docLink = document.createElement('div');\n",
              "        docLink.innerHTML = docLinkHtml;\n",
              "        element.appendChild(docLink);\n",
              "      }\n",
              "    </script>\n",
              "  </div>\n",
              "\n",
              "\n",
              "<div id=\"df-c937e7a3-dd25-4c7f-aad5-7302ae8c8b89\">\n",
              "  <button class=\"colab-df-quickchart\" onclick=\"quickchart('df-c937e7a3-dd25-4c7f-aad5-7302ae8c8b89')\"\n",
              "            title=\"Suggest charts\"\n",
              "            style=\"display:none;\">\n",
              "\n",
              "<svg xmlns=\"http://www.w3.org/2000/svg\" height=\"24px\"viewBox=\"0 0 24 24\"\n",
              "     width=\"24px\">\n",
              "    <g>\n",
              "        <path d=\"M19 3H5c-1.1 0-2 .9-2 2v14c0 1.1.9 2 2 2h14c1.1 0 2-.9 2-2V5c0-1.1-.9-2-2-2zM9 17H7v-7h2v7zm4 0h-2V7h2v10zm4 0h-2v-4h2v4z\"/>\n",
              "    </g>\n",
              "</svg>\n",
              "  </button>\n",
              "\n",
              "<style>\n",
              "  .colab-df-quickchart {\n",
              "      --bg-color: #E8F0FE;\n",
              "      --fill-color: #1967D2;\n",
              "      --hover-bg-color: #E2EBFA;\n",
              "      --hover-fill-color: #174EA6;\n",
              "      --disabled-fill-color: #AAA;\n",
              "      --disabled-bg-color: #DDD;\n",
              "  }\n",
              "\n",
              "  [theme=dark] .colab-df-quickchart {\n",
              "      --bg-color: #3B4455;\n",
              "      --fill-color: #D2E3FC;\n",
              "      --hover-bg-color: #434B5C;\n",
              "      --hover-fill-color: #FFFFFF;\n",
              "      --disabled-bg-color: #3B4455;\n",
              "      --disabled-fill-color: #666;\n",
              "  }\n",
              "\n",
              "  .colab-df-quickchart {\n",
              "    background-color: var(--bg-color);\n",
              "    border: none;\n",
              "    border-radius: 50%;\n",
              "    cursor: pointer;\n",
              "    display: none;\n",
              "    fill: var(--fill-color);\n",
              "    height: 32px;\n",
              "    padding: 0;\n",
              "    width: 32px;\n",
              "  }\n",
              "\n",
              "  .colab-df-quickchart:hover {\n",
              "    background-color: var(--hover-bg-color);\n",
              "    box-shadow: 0 1px 2px rgba(60, 64, 67, 0.3), 0 1px 3px 1px rgba(60, 64, 67, 0.15);\n",
              "    fill: var(--button-hover-fill-color);\n",
              "  }\n",
              "\n",
              "  .colab-df-quickchart-complete:disabled,\n",
              "  .colab-df-quickchart-complete:disabled:hover {\n",
              "    background-color: var(--disabled-bg-color);\n",
              "    fill: var(--disabled-fill-color);\n",
              "    box-shadow: none;\n",
              "  }\n",
              "\n",
              "  .colab-df-spinner {\n",
              "    border: 2px solid var(--fill-color);\n",
              "    border-color: transparent;\n",
              "    border-bottom-color: var(--fill-color);\n",
              "    animation:\n",
              "      spin 1s steps(1) infinite;\n",
              "  }\n",
              "\n",
              "  @keyframes spin {\n",
              "    0% {\n",
              "      border-color: transparent;\n",
              "      border-bottom-color: var(--fill-color);\n",
              "      border-left-color: var(--fill-color);\n",
              "    }\n",
              "    20% {\n",
              "      border-color: transparent;\n",
              "      border-left-color: var(--fill-color);\n",
              "      border-top-color: var(--fill-color);\n",
              "    }\n",
              "    30% {\n",
              "      border-color: transparent;\n",
              "      border-left-color: var(--fill-color);\n",
              "      border-top-color: var(--fill-color);\n",
              "      border-right-color: var(--fill-color);\n",
              "    }\n",
              "    40% {\n",
              "      border-color: transparent;\n",
              "      border-right-color: var(--fill-color);\n",
              "      border-top-color: var(--fill-color);\n",
              "    }\n",
              "    60% {\n",
              "      border-color: transparent;\n",
              "      border-right-color: var(--fill-color);\n",
              "    }\n",
              "    80% {\n",
              "      border-color: transparent;\n",
              "      border-right-color: var(--fill-color);\n",
              "      border-bottom-color: var(--fill-color);\n",
              "    }\n",
              "    90% {\n",
              "      border-color: transparent;\n",
              "      border-bottom-color: var(--fill-color);\n",
              "    }\n",
              "  }\n",
              "</style>\n",
              "\n",
              "  <script>\n",
              "    async function quickchart(key) {\n",
              "      const quickchartButtonEl =\n",
              "        document.querySelector('#' + key + ' button');\n",
              "      quickchartButtonEl.disabled = true;  // To prevent multiple clicks.\n",
              "      quickchartButtonEl.classList.add('colab-df-spinner');\n",
              "      try {\n",
              "        const charts = await google.colab.kernel.invokeFunction(\n",
              "            'suggestCharts', [key], {});\n",
              "      } catch (error) {\n",
              "        console.error('Error during call to suggestCharts:', error);\n",
              "      }\n",
              "      quickchartButtonEl.classList.remove('colab-df-spinner');\n",
              "      quickchartButtonEl.classList.add('colab-df-quickchart-complete');\n",
              "    }\n",
              "    (() => {\n",
              "      let quickchartButtonEl =\n",
              "        document.querySelector('#df-c937e7a3-dd25-4c7f-aad5-7302ae8c8b89 button');\n",
              "      quickchartButtonEl.style.display =\n",
              "        google.colab.kernel.accessAllowed ? 'block' : 'none';\n",
              "    })();\n",
              "  </script>\n",
              "</div>\n",
              "\n",
              "    </div>\n",
              "  </div>\n"
            ]
          },
          "metadata": {},
          "execution_count": 2
        }
      ],
      "source": [
        "diabetes = pd.read_csv('diabetes.csv')\n",
        "diabetes.head()"
      ]
    },
    {
      "cell_type": "code",
      "execution_count": null,
      "id": "d6ae1f35-952e-4573-9dfa-e5681d9767bf",
      "metadata": {
        "colab": {
          "base_uri": "https://localhost:8080/"
        },
        "id": "d6ae1f35-952e-4573-9dfa-e5681d9767bf",
        "outputId": "ea771860-2606-474b-f7ac-a03c3e745bb2"
      },
      "outputs": [
        {
          "output_type": "stream",
          "name": "stdout",
          "text": [
            "<class 'pandas.core.frame.DataFrame'>\n",
            "RangeIndex: 768 entries, 0 to 767\n",
            "Data columns (total 9 columns):\n",
            " #   Column                    Non-Null Count  Dtype  \n",
            "---  ------                    --------------  -----  \n",
            " 0   Pregnancies               768 non-null    int64  \n",
            " 1   Glucose                   768 non-null    int64  \n",
            " 2   BloodPressure             768 non-null    int64  \n",
            " 3   SkinThickness             768 non-null    int64  \n",
            " 4   Insulin                   768 non-null    int64  \n",
            " 5   BMI                       768 non-null    float64\n",
            " 6   DiabetesPedigreeFunction  768 non-null    float64\n",
            " 7   Age                       768 non-null    int64  \n",
            " 8   Outcome                   768 non-null    int64  \n",
            "dtypes: float64(2), int64(7)\n",
            "memory usage: 54.1 KB\n"
          ]
        }
      ],
      "source": [
        "diabetes.info()"
      ]
    },
    {
      "cell_type": "markdown",
      "id": "4e0a64e8-eb15-40ff-9768-331330a31b36",
      "metadata": {
        "id": "4e0a64e8-eb15-40ff-9768-331330a31b36"
      },
      "source": [
        "✅ Let's start from checking the blood glucose level of diabetic patient"
      ]
    },
    {
      "cell_type": "code",
      "execution_count": null,
      "id": "8e888a79-1583-4ddb-8a8c-5d9d2c8cdb18",
      "metadata": {
        "colab": {
          "base_uri": "https://localhost:8080/"
        },
        "id": "8e888a79-1583-4ddb-8a8c-5d9d2c8cdb18",
        "outputId": "c7387bed-aa19-4518-d42b-e5a24a4dcd5d"
      },
      "outputs": [
        {
          "output_type": "execute_result",
          "data": {
            "text/plain": [
              "0    125\n",
              "Name: Glucose, dtype: int64"
            ]
          },
          "metadata": {},
          "execution_count": 4
        }
      ],
      "source": [
        "diabetes['Glucose'][diabetes['Outcome']==1].mode()"
      ]
    },
    {
      "cell_type": "markdown",
      "source": [
        "🔎 As we can see 125 is frequent blood glucose level for diabetic patient."
      ],
      "metadata": {
        "id": "y2kNR9kmoRpv"
      },
      "id": "y2kNR9kmoRpv"
    },
    {
      "cell_type": "code",
      "source": [
        "diabetes['Glucose'][diabetes['Outcome']==1].mean()"
      ],
      "metadata": {
        "colab": {
          "base_uri": "https://localhost:8080/"
        },
        "id": "m5P_9gudnqEn",
        "outputId": "7bd733e5-3fce-4424-80c1-2af90c9763b2"
      },
      "id": "m5P_9gudnqEn",
      "execution_count": null,
      "outputs": [
        {
          "output_type": "execute_result",
          "data": {
            "text/plain": [
              "141.25746268656715"
            ]
          },
          "metadata": {},
          "execution_count": 5
        }
      ]
    },
    {
      "cell_type": "code",
      "execution_count": null,
      "id": "161aac12-1de3-4c9c-a277-5fdfb318fcde",
      "metadata": {
        "colab": {
          "base_uri": "https://localhost:8080/"
        },
        "id": "161aac12-1de3-4c9c-a277-5fdfb318fcde",
        "outputId": "5f103b99-7a78-41eb-ffc7-9a437b7d9d54"
      },
      "outputs": [
        {
          "output_type": "execute_result",
          "data": {
            "text/plain": [
              "140.0"
            ]
          },
          "metadata": {},
          "execution_count": 6
        }
      ],
      "source": [
        "diabetes['Glucose'][diabetes['Outcome']==1].median()"
      ]
    },
    {
      "cell_type": "markdown",
      "id": "13fb9165-1348-49af-9557-cd750afb78ff",
      "metadata": {
        "id": "13fb9165-1348-49af-9557-cd750afb78ff"
      },
      "source": [
        "✅ From above we can see that mean and median not much differ so it is normaly distributed\n",
        "we can assume that average blood glucose level of diabetic patient is near 140"
      ]
    },
    {
      "cell_type": "markdown",
      "id": "1ba894d5-d58b-4e9e-bbc1-9443c2f40a94",
      "metadata": {
        "id": "1ba894d5-d58b-4e9e-bbc1-9443c2f40a94"
      },
      "source": [
        "✅ Lets now find which age group has more diabetic patients"
      ]
    },
    {
      "cell_type": "code",
      "execution_count": null,
      "id": "fef68a84-6d27-4e10-8a85-4a31bdb1a688",
      "metadata": {
        "colab": {
          "base_uri": "https://localhost:8080/"
        },
        "id": "fef68a84-6d27-4e10-8a85-4a31bdb1a688",
        "outputId": "692d826f-72e8-4208-93ac-b62c559a81e7"
      },
      "outputs": [
        {
          "output_type": "stream",
          "name": "stdout",
          "text": [
            "Age is defined from\n",
            "21  to  81\n"
          ]
        }
      ],
      "source": [
        "bin_size = 10  # Specify the size of each interval\n",
        "min_age = diabetes['Age'].min()  # Minimum age in the dataset\n",
        "max_age = diabetes['Age'].max()  # Maximum age in the dataset\n",
        "bins = list(range(min_age, max_age + bin_size, bin_size))\n",
        "labels = [f\"{i}-{i+bin_size-1}\" for i in range(min_age, max_age, bin_size)]\n",
        "diabetes['Age_group'] = pd.cut(diabetes['Age'], bins=bins, labels=labels, include_lowest=True)\n",
        "\n",
        "#printing min_age and max_age\n",
        "print('Age is defined from')\n",
        "print(min_age, ' to ', max_age)"
      ]
    },
    {
      "cell_type": "code",
      "execution_count": null,
      "id": "fca464f8-bc5a-41c0-abbf-87b9115b0af1",
      "metadata": {
        "colab": {
          "base_uri": "https://localhost:8080/",
          "height": 423
        },
        "id": "fca464f8-bc5a-41c0-abbf-87b9115b0af1",
        "outputId": "a771ccd4-c54c-4497-b0bd-ddaf14d5f715"
      },
      "outputs": [
        {
          "output_type": "execute_result",
          "data": {
            "text/plain": [
              "<Axes: ylabel='Age'>"
            ]
          },
          "metadata": {},
          "execution_count": 8
        },
        {
          "output_type": "display_data",
          "data": {
            "text/plain": [
              "<Figure size 640x480 with 1 Axes>"
            ],
            "image/png": "[encoded data removed]"
          },
          "metadata": {}
        }
      ],
      "source": [
        "diabetes.groupby('Age_group', observed=False)['Age'].count().plot(kind='pie')"
      ]
    },
    {
      "cell_type": "markdown",
      "id": "b0343933-c17a-4ee8-b65a-6ebab7e92583",
      "metadata": {
        "id": "b0343933-c17a-4ee8-b65a-6ebab7e92583"
      },
      "source": [
        "✅ From above we can see that age 21 to 35 has more records and data is not evenly distributed"
      ]
    },
    {
      "cell_type": "code",
      "execution_count": null,
      "id": "2294dff9-710e-4d9a-ad58-cb5468047652",
      "metadata": {
        "colab": {
          "base_uri": "https://localhost:8080/",
          "height": 498
        },
        "id": "2294dff9-710e-4d9a-ad58-cb5468047652",
        "outputId": "88de0644-ea55-474d-9fa4-e37b3fbcf9d8"
      },
      "outputs": [
        {
          "output_type": "execute_result",
          "data": {
            "text/plain": [
              "<Axes: xlabel='Age_group'>"
            ]
          },
          "metadata": {},
          "execution_count": 9
        },
        {
          "output_type": "display_data",
          "data": {
            "text/plain": [
              "<Figure size 640x480 with 1 Axes>"
            ],
            "image/png": "[encoded data removed]"
          },
          "metadata": {}
        }
      ],
      "source": [
        "age_chart = diabetes.groupby('Age_group', observed=False)['Outcome'].mean() * 100\n",
        "age_chart.plot(kind='bar', ylim = (0, 100))"
      ]
    },
    {
      "cell_type": "markdown",
      "id": "7eeda8d5-a127-4321-9e4f-b32b4a79a07c",
      "metadata": {
        "id": "7eeda8d5-a127-4321-9e4f-b32b4a79a07c"
      },
      "source": [
        "✅ From above we can see that from age 41 to 50 has more diabetic patients nearly equivalent is age group 51 to 60\n",
        "then followed by 31 to 40 and 61 to 70, so middle age people has less chance of getting diabetes"
      ]
    },
    {
      "cell_type": "markdown",
      "id": "8228d85d-5902-42c5-8b39-fba7f335507a",
      "metadata": {
        "id": "8228d85d-5902-42c5-8b39-fba7f335507a"
      },
      "source": [
        "✅ Now let's find Preganancies week have any relation to diabetes"
      ]
    },
    {
      "cell_type": "code",
      "execution_count": null,
      "id": "efbe57a1-16f5-4369-acc1-df85a931aa6a",
      "metadata": {
        "colab": {
          "base_uri": "https://localhost:8080/"
        },
        "id": "efbe57a1-16f5-4369-acc1-df85a931aa6a",
        "outputId": "2868e133-96ae-462d-c913-920ae6082dce"
      },
      "outputs": [
        {
          "output_type": "stream",
          "name": "stdout",
          "text": [
            "Pregnancies is defined from\n",
            "0  to  17\n"
          ]
        }
      ],
      "source": [
        "bin_size = 4  # Specify the size of each interval\n",
        "min_pre = diabetes['Pregnancies'].min()  # Minimum pregnecies in the dataset\n",
        "max_pre = diabetes['Pregnancies'].max()  # Maximum pregnecies in the dataset\n",
        "bins = list(range(min_pre, max_pre + bin_size, bin_size))\n",
        "labels = [f\"{i}-{i+bin_size-1}\" for i in range(min_pre, max_pre, bin_size)]\n",
        "diabetes['Pregnancy_group'] = pd.cut(diabetes['Pregnancies'], bins=bins, labels=labels, include_lowest=True)\n",
        "\n",
        "#printing min pregnacies and pregnancies\n",
        "print('Pregnancies week is defined from')\n",
        "print(min_pre, ' to ', max_pre)"
      ]
    },
    {
      "cell_type": "code",
      "execution_count": null,
      "id": "af10c6b4-8473-4d1e-861f-476a8501e9ee",
      "metadata": {
        "colab": {
          "base_uri": "https://localhost:8080/",
          "height": 493
        },
        "id": "af10c6b4-8473-4d1e-861f-476a8501e9ee",
        "outputId": "2fc8313d-690b-4e14-f67b-eef98281a11a"
      },
      "outputs": [
        {
          "output_type": "execute_result",
          "data": {
            "text/plain": [
              "<Axes: xlabel='Pregnancy_group'>"
            ]
          },
          "metadata": {},
          "execution_count": 11
        },
        {
          "output_type": "display_data",
          "data": {
            "text/plain": [
              "<Figure size 640x480 with 1 Axes>"
            ],
            "image/png": "[encoded data removed]"
          },
          "metadata": {}
        }
      ],
      "source": [
        "Pregnancies_chart = diabetes.groupby('Pregnancy_group', observed=False)['Outcome'].mean() * 100\n",
        "Pregnancies_chart.plot(kind='bar')"
      ]
    },
    {
      "cell_type": "markdown",
      "id": "4e4836a2-561a-4c01-912d-45841c4ed04d",
      "metadata": {
        "id": "4e4836a2-561a-4c01-912d-45841c4ed04d"
      },
      "source": [
        "✅ Here we can clearly see that more pregnancies week prone to gestational  diabetes"
      ]
    },
    {
      "cell_type": "markdown",
      "id": "efa80ed4-ba0b-4ca6-8dd5-f9c41a659cbb",
      "metadata": {
        "id": "efa80ed4-ba0b-4ca6-8dd5-f9c41a659cbb"
      },
      "source": [
        "✅ Now If person have less Insulin does realy get diabetes let's check."
      ]
    },
    {
      "cell_type": "code",
      "execution_count": null,
      "id": "bc8a55b4-5f59-4bb1-a13e-3acb1d8653a8",
      "metadata": {
        "colab": {
          "base_uri": "https://localhost:8080/"
        },
        "id": "bc8a55b4-5f59-4bb1-a13e-3acb1d8653a8",
        "outputId": "36df166e-32ac-40bf-f6ef-85b908e9fdaa"
      },
      "outputs": [
        {
          "output_type": "stream",
          "name": "stdout",
          "text": [
            "Insulin level is defined from\n",
            "0  to  846\n"
          ]
        }
      ],
      "source": [
        "bin_size = 50  # Specify the size of each interval\n",
        "min_ins = diabetes['Insulin'].min()  # Minimum insulin level in the dataset\n",
        "max_ins = diabetes['Insulin'].max()  # Maximum insulin level in the dataset\n",
        "bins = list(range(min_ins, max_ins + bin_size, bin_size))\n",
        "labels = [f\"{i}-{i+bin_size-1}\" for i in range(min_ins, max_ins, bin_size)]\n",
        "diabetes['Insulin_group'] = pd.cut(diabetes['Insulin'], bins=bins, labels=labels, include_lowest=True)\n",
        "\n",
        "#printing min insulin level and max insulin level\n",
        "print('Insulin level is defined from')\n",
        "print(min_ins, ' to ', max_ins)"
      ]
    },
    {
      "cell_type": "code",
      "execution_count": null,
      "id": "6447ca11-1621-40fa-af6a-f80a36197dbf",
      "metadata": {
        "colab": {
          "base_uri": "https://localhost:8080/",
          "height": 510
        },
        "id": "6447ca11-1621-40fa-af6a-f80a36197dbf",
        "outputId": "2551a269-0a0a-46cc-bc27-45daaaf84a59"
      },
      "outputs": [
        {
          "output_type": "execute_result",
          "data": {
            "text/plain": [
              "<Axes: xlabel='Insulin_group'>"
            ]
          },
          "metadata": {},
          "execution_count": 13
        },
        {
          "output_type": "display_data",
          "data": {
            "text/plain": [
              "<Figure size 640x480 with 1 Axes>"
            ],
            "image/png": "[encoded data removed]"
          },
          "metadata": {}
        }
      ],
      "source": [
        "Insulin_chart = diabetes.groupby('Insulin_group', observed=False)['Outcome'].sum()\n",
        "Insulin_chart.plot(kind='bar')"
      ]
    },
    {
      "cell_type": "markdown",
      "id": "c1fd2857-5ac0-4215-bc49-7f2f652fca28",
      "metadata": {
        "id": "c1fd2857-5ac0-4215-bc49-7f2f652fca28"
      },
      "source": [
        "✅ From above it is clear that person having high insulin will have low chances of getting diabetes"
      ]
    },
    {
      "cell_type": "markdown",
      "source": [
        "# Conclusion"
      ],
      "metadata": {
        "id": "NganyY6Ptv5_"
      },
      "id": "NganyY6Ptv5_"
    },
    {
      "cell_type": "markdown",
      "source": [
        "We have found out that age is related to diabetes as well as pregnacies, found relation between insulin level and diabbetes, their glucose level etc."
      ],
      "metadata": {
        "id": "4LnZQSOM08Pf"
      },
      "id": "4LnZQSOM08Pf"
    }
  ],
  "metadata": {
    "kernelspec": {
      "display_name": "Python 3 (ipykernel)",
      "language": "python",
      "name": "python3"
    },
    "language_info": {
      "codemirror_mode": {
        "name": "ipython",
        "version": 3
      },
      "file_extension": ".py",
      "mimetype": "text/x-python",
      "name": "python",
      "nbconvert_exporter": "python",
      "pygments_lexer": "ipython3",
      "version": "3.11.3"
    },
    "colab": {
      "provenance": []
    }
  },
  "nbformat": 4,
  "nbformat_minor": 5
}