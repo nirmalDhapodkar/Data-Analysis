{
  "cells": [
    {
      "cell_type": "markdown",
      "id": "83628ba6-ca64-48b3-ba91-25f5009c2687",
      "metadata": {
        "id": "83628ba6-ca64-48b3-ba91-25f5009c2687"
      },
      "source": [
        "# **Report on Analysis of Heart Data** 💓"
      ]
    },
    {
      "cell_type": "code",
      "execution_count": null,
      "id": "0f43774e-4de6-4df4-9e38-ca6b19c86360",
      "metadata": {
        "id": "0f43774e-4de6-4df4-9e38-ca6b19c86360"
      },
      "outputs": [],
      "source": [
        "import numpy as np\n",
        "import pandas as pd"
      ]
    },
    {
      "cell_type": "markdown",
      "id": "e376d53a-7521-411c-b954-b4602e08a08a",
      "metadata": {
        "id": "e376d53a-7521-411c-b954-b4602e08a08a"
      },
      "source": [
        "✅ Loading data from file previewing it."
      ]
    },
    {
      "cell_type": "code",
      "execution_count": null,
      "id": "03271834-6833-4295-9c09-f9751ec40dc1",
      "metadata": {
        "scrolled": true,
        "id": "03271834-6833-4295-9c09-f9751ec40dc1",
        "colab": {
          "base_uri": "https://localhost:8080/",
          "height": 206
        },
        "outputId": "66a3f684-9b1d-4ba7-daac-8323d7ed949e"
      },
      "outputs": [
        {
          "output_type": "execute_result",
          "data": {
            "text/plain": [
              "   age  sex  cp  trestbps  chol  fbs  restecg  thalach  exang  oldpeak  slope  \\\n",
              "0   63    1   3       145   233    1        0      150      0      2.3      0   \n",
              "1   37    1   2       130   250    0        1      187      0      3.5      0   \n",
              "2   41    0   1       130   204    0        0      172      0      1.4      2   \n",
              "3   56    1   1       120   236    0        1      178      0      0.8      2   \n",
              "4   57    0   0       120   354    0        1      163      1      0.6      2   \n",
              "\n",
              "   ca  thal  target  \n",
              "0   0     1       1  \n",
              "1   0     2       1  \n",
              "2   0     2       1  \n",
              "3   0     2       1  \n",
              "4   0     2       1  "
            ],
            "text/html": [
              "\n",
              "  <div id=\"df-1ebd847c-d3e9-48a4-ba2f-982eb1f4517f\" class=\"colab-df-container\">\n",
              "    <div>\n",
              "<style scoped>\n",
              "    .dataframe tbody tr th:only-of-type {\n",
              "        vertical-align: middle;\n",
              "    }\n",
              "\n",
              "    .dataframe tbody tr th {\n",
              "        vertical-align: top;\n",
              "    }\n",
              "\n",
              "    .dataframe thead th {\n",
              "        text-align: right;\n",
              "    }\n",
              "</style>\n",
              "<table border=\"1\" class=\"dataframe\">\n",
              "  <thead>\n",
              "    <tr style=\"text-align: right;\">\n",
              "      <th></th>\n",
              "      <th>age</th>\n",
              "      <th>sex</th>\n",
              "      <th>cp</th>\n",
              "      <th>trestbps</th>\n",
              "      <th>chol</th>\n",
              "      <th>fbs</th>\n",
              "      <th>restecg</th>\n",
              "      <th>thalach</th>\n",
              "      <th>exang</th>\n",
              "      <th>oldpeak</th>\n",
              "      <th>slope</th>\n",
              "      <th>ca</th>\n",
              "      <th>thal</th>\n",
              "      <th>target</th>\n",
              "    </tr>\n",
              "  </thead>\n",
              "  <tbody>\n",
              "    <tr>\n",
              "      <th>0</th>\n",
              "      <td>63</td>\n",
              "      <td>1</td>\n",
              "      <td>3</td>\n",
              "      <td>145</td>\n",
              "      <td>233</td>\n",
              "      <td>1</td>\n",
              "      <td>0</td>\n",
              "      <td>150</td>\n",
              "      <td>0</td>\n",
              "      <td>2.3</td>\n",
              "      <td>0</td>\n",
              "      <td>0</td>\n",
              "      <td>1</td>\n",
              "      <td>1</td>\n",
              "    </tr>\n",
              "    <tr>\n",
              "      <th>1</th>\n",
              "      <td>37</td>\n",
              "      <td>1</td>\n",
              "      <td>2</td>\n",
              "      <td>130</td>\n",
              "      <td>250</td>\n",
              "      <td>0</td>\n",
              "      <td>1</td>\n",
              "      <td>187</td>\n",
              "      <td>0</td>\n",
              "      <td>3.5</td>\n",
              "      <td>0</td>\n",
              "      <td>0</td>\n",
              "      <td>2</td>\n",
              "      <td>1</td>\n",
              "    </tr>\n",
              "    <tr>\n",
              "      <th>2</th>\n",
              "      <td>41</td>\n",
              "      <td>0</td>\n",
              "      <td>1</td>\n",
              "      <td>130</td>\n",
              "      <td>204</td>\n",
              "      <td>0</td>\n",
              "      <td>0</td>\n",
              "      <td>172</td>\n",
              "      <td>0</td>\n",
              "      <td>1.4</td>\n",
              "      <td>2</td>\n",
              "      <td>0</td>\n",
              "      <td>2</td>\n",
              "      <td>1</td>\n",
              "    </tr>\n",
              "    <tr>\n",
              "      <th>3</th>\n",
              "      <td>56</td>\n",
              "      <td>1</td>\n",
              "      <td>1</td>\n",
              "      <td>120</td>\n",
              "      <td>236</td>\n",
              "      <td>0</td>\n",
              "      <td>1</td>\n",
              "      <td>178</td>\n",
              "      <td>0</td>\n",
              "      <td>0.8</td>\n",
              "      <td>2</td>\n",
              "      <td>0</td>\n",
              "      <td>2</td>\n",
              "      <td>1</td>\n",
              "    </tr>\n",
              "    <tr>\n",
              "      <th>4</th>\n",
              "      <td>57</td>\n",
              "      <td>0</td>\n",
              "      <td>0</td>\n",
              "      <td>120</td>\n",
              "      <td>354</td>\n",
              "      <td>0</td>\n",
              "      <td>1</td>\n",
              "      <td>163</td>\n",
              "      <td>1</td>\n",
              "      <td>0.6</td>\n",
              "      <td>2</td>\n",
              "      <td>0</td>\n",
              "      <td>2</td>\n",
              "      <td>1</td>\n",
              "    </tr>\n",
              "  </tbody>\n",
              "</table>\n",
              "</div>\n",
              "    <div class=\"colab-df-buttons\">\n",
              "\n",
              "  <div class=\"colab-df-container\">\n",
              "    <button class=\"colab-df-convert\" onclick=\"convertToInteractive('df-1ebd847c-d3e9-48a4-ba2f-982eb1f4517f')\"\n",
              "            title=\"Convert this dataframe to an interactive table.\"\n",
              "            style=\"display:none;\">\n",
              "\n",
              "  <svg xmlns=\"http://www.w3.org/2000/svg\" height=\"24px\" viewBox=\"0 -960 960 960\">\n",
              "    <path d=\"M120-120v-720h720v720H120Zm60-500h600v-160H180v160Zm220 220h160v-160H400v160Zm0 220h160v-160H400v160ZM180-400h160v-160H180v160Zm440 0h160v-160H620v160ZM180-180h160v-160H180v160Zm440 0h160v-160H620v160Z\"/>\n",
              "  </svg>\n",
              "    </button>\n",
              "\n",
              "  <style>\n",
              "    .colab-df-container {\n",
              "      display:flex;\n",
              "      gap: 12px;\n",
              "    }\n",
              "\n",
              "    .colab-df-convert {\n",
              "      background-color: #E8F0FE;\n",
              "      border: none;\n",
              "      border-radius: 50%;\n",
              "      cursor: pointer;\n",
              "      display: none;\n",
              "      fill: #1967D2;\n",
              "      height: 32px;\n",
              "      padding: 0 0 0 0;\n",
              "      width: 32px;\n",
              "    }\n",
              "\n",
              "    .colab-df-convert:hover {\n",
              "      background-color: #E2EBFA;\n",
              "      box-shadow: 0px 1px 2px rgba(60, 64, 67, 0.3), 0px 1px 3px 1px rgba(60, 64, 67, 0.15);\n",
              "      fill: #174EA6;\n",
              "    }\n",
              "\n",
              "    .colab-df-buttons div {\n",
              "      margin-bottom: 4px;\n",
              "    }\n",
              "\n",
              "    [theme=dark] .colab-df-convert {\n",
              "      background-color: #3B4455;\n",
              "      fill: #D2E3FC;\n",
              "    }\n",
              "\n",
              "    [theme=dark] .colab-df-convert:hover {\n",
              "      background-color: #434B5C;\n",
              "      box-shadow: 0px 1px 3px 1px rgba(0, 0, 0, 0.15);\n",
              "      filter: drop-shadow(0px 1px 2px rgba(0, 0, 0, 0.3));\n",
              "      fill: #FFFFFF;\n",
              "    }\n",
              "  </style>\n",
              "\n",
              "    <script>\n",
              "      const buttonEl =\n",
              "        document.querySelector('#df-1ebd847c-d3e9-48a4-ba2f-982eb1f4517f button.colab-df-convert');\n",
              "      buttonEl.style.display =\n",
              "        google.colab.kernel.accessAllowed ? 'block' : 'none';\n",
              "\n",
              "      async function convertToInteractive(key) {\n",
              "        const element = document.querySelector('#df-1ebd847c-d3e9-48a4-ba2f-982eb1f4517f');\n",
              "        const dataTable =\n",
              "          await google.colab.kernel.invokeFunction('convertToInteractive',\n",
              "                                                    [key], {});\n",
              "        if (!dataTable) return;\n",
              "\n",
              "        const docLinkHtml = 'Like what you see? Visit the ' +\n",
              "          '<a target=\"_blank\" href=https://colab.research.google.com/notebooks/data_table.ipynb>data table notebook</a>'\n",
              "          + ' to learn more about interactive tables.';\n",
              "        element.innerHTML = '';\n",
              "        dataTable['output_type'] = 'display_data';\n",
              "        await google.colab.output.renderOutput(dataTable, element);\n",
              "        const docLink = document.createElement('div');\n",
              "        docLink.innerHTML = docLinkHtml;\n",
              "        element.appendChild(docLink);\n",
              "      }\n",
              "    </script>\n",
              "  </div>\n",
              "\n",
              "\n",
              "<div id=\"df-9655f61a-3918-426c-ba26-a80b986d2317\">\n",
              "  <button class=\"colab-df-quickchart\" onclick=\"quickchart('df-9655f61a-3918-426c-ba26-a80b986d2317')\"\n",
              "            title=\"Suggest charts\"\n",
              "            style=\"display:none;\">\n",
              "\n",
              "<svg xmlns=\"http://www.w3.org/2000/svg\" height=\"24px\"viewBox=\"0 0 24 24\"\n",
              "     width=\"24px\">\n",
              "    <g>\n",
              "        <path d=\"M19 3H5c-1.1 0-2 .9-2 2v14c0 1.1.9 2 2 2h14c1.1 0 2-.9 2-2V5c0-1.1-.9-2-2-2zM9 17H7v-7h2v7zm4 0h-2V7h2v10zm4 0h-2v-4h2v4z\"/>\n",
              "    </g>\n",
              "</svg>\n",
              "  </button>\n",
              "\n",
              "<style>\n",
              "  .colab-df-quickchart {\n",
              "      --bg-color: #E8F0FE;\n",
              "      --fill-color: #1967D2;\n",
              "      --hover-bg-color: #E2EBFA;\n",
              "      --hover-fill-color: #174EA6;\n",
              "      --disabled-fill-color: #AAA;\n",
              "      --disabled-bg-color: #DDD;\n",
              "  }\n",
              "\n",
              "  [theme=dark] .colab-df-quickchart {\n",
              "      --bg-color: #3B4455;\n",
              "      --fill-color: #D2E3FC;\n",
              "      --hover-bg-color: #434B5C;\n",
              "      --hover-fill-color: #FFFFFF;\n",
              "      --disabled-bg-color: #3B4455;\n",
              "      --disabled-fill-color: #666;\n",
              "  }\n",
              "\n",
              "  .colab-df-quickchart {\n",
              "    background-color: var(--bg-color);\n",
              "    border: none;\n",
              "    border-radius: 50%;\n",
              "    cursor: pointer;\n",
              "    display: none;\n",
              "    fill: var(--fill-color);\n",
              "    height: 32px;\n",
              "    padding: 0;\n",
              "    width: 32px;\n",
              "  }\n",
              "\n",
              "  .colab-df-quickchart:hover {\n",
              "    background-color: var(--hover-bg-color);\n",
              "    box-shadow: 0 1px 2px rgba(60, 64, 67, 0.3), 0 1px 3px 1px rgba(60, 64, 67, 0.15);\n",
              "    fill: var(--button-hover-fill-color);\n",
              "  }\n",
              "\n",
              "  .colab-df-quickchart-complete:disabled,\n",
              "  .colab-df-quickchart-complete:disabled:hover {\n",
              "    background-color: var(--disabled-bg-color);\n",
              "    fill: var(--disabled-fill-color);\n",
              "    box-shadow: none;\n",
              "  }\n",
              "\n",
              "  .colab-df-spinner {\n",
              "    border: 2px solid var(--fill-color);\n",
              "    border-color: transparent;\n",
              "    border-bottom-color: var(--fill-color);\n",
              "    animation:\n",
              "      spin 1s steps(1) infinite;\n",
              "  }\n",
              "\n",
              "  @keyframes spin {\n",
              "    0% {\n",
              "      border-color: transparent;\n",
              "      border-bottom-color: var(--fill-color);\n",
              "      border-left-color: var(--fill-color);\n",
              "    }\n",
              "    20% {\n",
              "      border-color: transparent;\n",
              "      border-left-color: var(--fill-color);\n",
              "      border-top-color: var(--fill-color);\n",
              "    }\n",
              "    30% {\n",
              "      border-color: transparent;\n",
              "      border-left-color: var(--fill-color);\n",
              "      border-top-color: var(--fill-color);\n",
              "      border-right-color: var(--fill-color);\n",
              "    }\n",
              "    40% {\n",
              "      border-color: transparent;\n",
              "      border-right-color: var(--fill-color);\n",
              "      border-top-color: var(--fill-color);\n",
              "    }\n",
              "    60% {\n",
              "      border-color: transparent;\n",
              "      border-right-color: var(--fill-color);\n",
              "    }\n",
              "    80% {\n",
              "      border-color: transparent;\n",
              "      border-right-color: var(--fill-color);\n",
              "      border-bottom-color: var(--fill-color);\n",
              "    }\n",
              "    90% {\n",
              "      border-color: transparent;\n",
              "      border-bottom-color: var(--fill-color);\n",
              "    }\n",
              "  }\n",
              "</style>\n",
              "\n",
              "  <script>\n",
              "    async function quickchart(key) {\n",
              "      const quickchartButtonEl =\n",
              "        document.querySelector('#' + key + ' button');\n",
              "      quickchartButtonEl.disabled = true;  // To prevent multiple clicks.\n",
              "      quickchartButtonEl.classList.add('colab-df-spinner');\n",
              "      try {\n",
              "        const charts = await google.colab.kernel.invokeFunction(\n",
              "            'suggestCharts', [key], {});\n",
              "      } catch (error) {\n",
              "        console.error('Error during call to suggestCharts:', error);\n",
              "      }\n",
              "      quickchartButtonEl.classList.remove('colab-df-spinner');\n",
              "      quickchartButtonEl.classList.add('colab-df-quickchart-complete');\n",
              "    }\n",
              "    (() => {\n",
              "      let quickchartButtonEl =\n",
              "        document.querySelector('#df-9655f61a-3918-426c-ba26-a80b986d2317 button');\n",
              "      quickchartButtonEl.style.display =\n",
              "        google.colab.kernel.accessAllowed ? 'block' : 'none';\n",
              "    })();\n",
              "  </script>\n",
              "</div>\n",
              "\n",
              "    </div>\n",
              "  </div>\n"
            ]
          },
          "metadata": {},
          "execution_count": 2
        }
      ],
      "source": [
        "heart = pd.read_csv('heart.csv')\n",
        "heart.head()"
      ]
    },
    {
      "cell_type": "markdown",
      "id": "b1ea5a32-a563-4d4d-803b-f638af2421f0",
      "metadata": {
        "id": "b1ea5a32-a563-4d4d-803b-f638af2421f0"
      },
      "source": [
        "✅ Loading information about dataset."
      ]
    },
    {
      "cell_type": "code",
      "execution_count": null,
      "id": "da2b5840-a0d0-4421-82af-6e5b7aee51cc",
      "metadata": {
        "id": "da2b5840-a0d0-4421-82af-6e5b7aee51cc",
        "colab": {
          "base_uri": "https://localhost:8080/"
        },
        "outputId": "5f46e8c3-8bc2-4f0e-ce5a-4169214e852a"
      },
      "outputs": [
        {
          "output_type": "stream",
          "name": "stdout",
          "text": [
            "<class 'pandas.core.frame.DataFrame'>\n",
            "RangeIndex: 303 entries, 0 to 302\n",
            "Data columns (total 14 columns):\n",
            " #   Column    Non-Null Count  Dtype  \n",
            "---  ------    --------------  -----  \n",
            " 0   age       303 non-null    int64  \n",
            " 1   sex       303 non-null    int64  \n",
            " 2   cp        303 non-null    int64  \n",
            " 3   trestbps  303 non-null    int64  \n",
            " 4   chol      303 non-null    int64  \n",
            " 5   fbs       303 non-null    int64  \n",
            " 6   restecg   303 non-null    int64  \n",
            " 7   thalach   303 non-null    int64  \n",
            " 8   exang     303 non-null    int64  \n",
            " 9   oldpeak   303 non-null    float64\n",
            " 10  slope     303 non-null    int64  \n",
            " 11  ca        303 non-null    int64  \n",
            " 12  thal      303 non-null    int64  \n",
            " 13  target    303 non-null    int64  \n",
            "dtypes: float64(1), int64(13)\n",
            "memory usage: 33.3 KB\n"
          ]
        }
      ],
      "source": [
        "heart.info()"
      ]
    },
    {
      "cell_type": "markdown",
      "id": "e78a203f-f2fb-481d-a420-2be04cfb1aca",
      "metadata": {
        "id": "e78a203f-f2fb-481d-a420-2be04cfb1aca"
      },
      "source": [
        "✅ Let's check how much target generated from each sex here 1 denotes male while 0 denotes female"
      ]
    },
    {
      "cell_type": "code",
      "execution_count": null,
      "id": "cfb849de-f051-464c-a204-2e35aeef3ef3",
      "metadata": {
        "id": "cfb849de-f051-464c-a204-2e35aeef3ef3",
        "colab": {
          "base_uri": "https://localhost:8080/",
          "height": 558
        },
        "outputId": "95efc290-83e5-4eb0-e96d-ce3231a6ec4f"
      },
      "outputs": [
        {
          "output_type": "stream",
          "name": "stdout",
          "text": [
            "93\n",
            "72\n"
          ]
        },
        {
          "output_type": "execute_result",
          "data": {
            "text/plain": [
              "<Axes: title={'center': 'Gender Vs Number of Heart Attacks'}, xlabel='Gender', ylabel='Number of Patients'>"
            ]
          },
          "metadata": {},
          "execution_count": 4
        },
        {
          "output_type": "display_data",
          "data": {
            "text/plain": [
              "<Figure size 640x480 with 1 Axes>"
            ],
            "image/png": "[encoded data removed]"
          },
          "metadata": {}
        }
      ],
      "source": [
        "male_targets = heart[heart['sex']==1]['target'].sum()\n",
        "print(male_targets)\n",
        "female_targets = heart[heart['sex']==0]['target'].sum()\n",
        "print(female_targets)\n",
        "\n",
        "gender = pd.Series({'male':male_targets, 'female':female_targets})\n",
        "gender.plot(kind='bar', title='Gender Vs Number of Heart Attacks', ylabel='Number of Patients', xlabel='Gender', color='orange')"
      ]
    },
    {
      "cell_type": "markdown",
      "id": "50d4d445-97d7-4394-b4e8-3f59225db826",
      "metadata": {
        "id": "50d4d445-97d7-4394-b4e8-3f59225db826"
      },
      "source": [
        "❓ from above we can see that number of male higher than that of females\n",
        "but does it really shows that male are at higher risk, does data properly distributed"
      ]
    },
    {
      "cell_type": "code",
      "execution_count": null,
      "id": "19697ad5-927c-4840-aa98-327a72bbd7da",
      "metadata": {
        "id": "19697ad5-927c-4840-aa98-327a72bbd7da",
        "colab": {
          "base_uri": "https://localhost:8080/"
        },
        "outputId": "2e99b047-fc10-450c-bd77-89f1c80a3895"
      },
      "outputs": [
        {
          "output_type": "execute_result",
          "data": {
            "text/plain": [
              "1    207\n",
              "0     96\n",
              "Name: sex, dtype: int64"
            ]
          },
          "metadata": {},
          "execution_count": 5
        }
      ],
      "source": [
        "heart['sex'].value_counts()"
      ]
    },
    {
      "cell_type": "markdown",
      "id": "e23b4132-815d-4ef4-a533-5249067119d7",
      "metadata": {
        "id": "e23b4132-815d-4ef4-a533-5249067119d7"
      },
      "source": [
        "💡 From above we can see that dataset is biased and count of male and female is not nearly same\n",
        "so lets calculate the ratio of each sex for now"
      ]
    },
    {
      "cell_type": "code",
      "execution_count": null,
      "id": "d9d3b169-a168-434c-a79a-9449453b0ae5",
      "metadata": {
        "id": "d9d3b169-a168-434c-a79a-9449453b0ae5",
        "colab": {
          "base_uri": "https://localhost:8080/",
          "height": 558
        },
        "outputId": "13e53a04-6e9a-4a76-d80e-7b25a4988231"
      },
      "outputs": [
        {
          "output_type": "stream",
          "name": "stdout",
          "text": [
            "Male rate of getting attack : 44.93\n",
            "Female rate of getting attack : 75.00 \n"
          ]
        },
        {
          "output_type": "execute_result",
          "data": {
            "text/plain": [
              "<Axes: title={'center': 'Percentage of Heart Attack Per Gender'}, xlabel='Gender', ylabel='Risk in Percent(%)'>"
            ]
          },
          "metadata": {},
          "execution_count": 6
        },
        {
          "output_type": "display_data",
          "data": {
            "text/plain": [
              "<Figure size 640x480 with 1 Axes>"
            ],
            "image/png": "[encoded data removed]"
          },
          "metadata": {}
        }
      ],
      "source": [
        "male_percent = male_targets/207 * 100\n",
        "female_percent = female_targets/96 * 100\n",
        "print(f\"Male rate of getting attack : %.2f\" %male_percent)\n",
        "print(f\"Female rate of getting attack : %.2f \" %female_percent)\n",
        "\n",
        "percent = pd.Series({'male':male_percent, 'female':female_percent})\n",
        "percent.plot(kind='bar', ylim=(0, 100), title=\"Percentage of Heart Attack Per Gender\", ylabel='Risk in Percent(%)', xlabel='Gender', color='orange')"
      ]
    },
    {
      "cell_type": "markdown",
      "id": "1429b117-9efd-40de-9502-772727a003af",
      "metadata": {
        "id": "1429b117-9efd-40de-9502-772727a003af"
      },
      "source": [
        "✅ From above we can see that \"***females are at high risk than male***\" because their percentage is higher than male"
      ]
    },
    {
      "cell_type": "markdown",
      "id": "e9ade9f0-c2c9-461b-869f-439871c89a79",
      "metadata": {
        "id": "e9ade9f0-c2c9-461b-869f-439871c89a79"
      },
      "source": [
        "✅ Now lets check the mean cholestrol level of target heart attack true"
      ]
    },
    {
      "cell_type": "code",
      "execution_count": null,
      "id": "98219418-0f1b-4c13-850e-c95cdafef58c",
      "metadata": {
        "id": "98219418-0f1b-4c13-850e-c95cdafef58c",
        "colab": {
          "base_uri": "https://localhost:8080/"
        },
        "outputId": "757e2613-2d90-424e-fd24-9acd40aa90ab"
      },
      "outputs": [
        {
          "output_type": "execute_result",
          "data": {
            "text/plain": [
              "0    197\n",
              "1    204\n",
              "2    211\n",
              "3    226\n",
              "4    234\n",
              "5    240\n",
              "Name: chol, dtype: int64"
            ]
          },
          "metadata": {},
          "execution_count": 7
        }
      ],
      "source": [
        "heart[heart['target'] == 1]['chol'].mode()"
      ]
    },
    {
      "cell_type": "markdown",
      "id": "f33aa007-81f6-46f5-8c2d-52eb87b4b161",
      "metadata": {
        "id": "f33aa007-81f6-46f5-8c2d-52eb87b4b161"
      },
      "source": [
        "✅ Here 197 is frequent minimum cholestrol level for who aquired heart attack"
      ]
    },
    {
      "cell_type": "markdown",
      "id": "c4acb087-14ea-430f-96da-8a2faef09c3e",
      "metadata": {
        "id": "c4acb087-14ea-430f-96da-8a2faef09c3e"
      },
      "source": [
        "✅ Lets also find for which kind of chest pain (cp) is symptom of heart attack\n",
        "plotting the cptype vs number of targets"
      ]
    },
    {
      "cell_type": "code",
      "execution_count": null,
      "id": "1674b823-d2ea-429f-80bb-681c340f2e44",
      "metadata": {
        "id": "1674b823-d2ea-429f-80bb-681c340f2e44",
        "colab": {
          "base_uri": "https://localhost:8080/",
          "height": 484
        },
        "outputId": "029c9c7a-e0af-442d-8c1d-001ea97f7ec8"
      },
      "outputs": [
        {
          "output_type": "execute_result",
          "data": {
            "text/plain": [
              "<Axes: title={'center': 'Number of Chest Pain per Type'}, xlabel='Chest Pain Type', ylabel='Number of Patients'>"
            ]
          },
          "metadata": {},
          "execution_count": 8
        },
        {
          "output_type": "display_data",
          "data": {
            "text/plain": [
              "<Figure size 640x480 with 1 Axes>"
            ],
            "image/png": "[encoded data removed]"
          },
          "metadata": {}
        }
      ],
      "source": [
        "heart.groupby('cp')['target'].sum().plot(kind='bar', title='Number of Chest Pain per Type', xlabel='Chest Pain Type', ylabel='Number of Patients', color='tomato')"
      ]
    },
    {
      "cell_type": "markdown",
      "id": "ddf0d5e8-e967-4841-b8ab-2599bb42598f",
      "metadata": {
        "id": "ddf0d5e8-e967-4841-b8ab-2599bb42598f"
      },
      "source": [
        "✅ we can see from above type 2 chest pain is main symptom of heart attack followed by type 1, 0 and 3"
      ]
    },
    {
      "cell_type": "markdown",
      "id": "a4465d3c-bb05-44fc-be72-9ffcf3e04aec",
      "metadata": {
        "id": "a4465d3c-bb05-44fc-be72-9ffcf3e04aec"
      },
      "source": [
        " ✅ Now lets find which age group would likely fall for heart attack\n",
        " first divide the age into intervals of 10 years each"
      ]
    },
    {
      "cell_type": "code",
      "execution_count": null,
      "id": "6d409231-cf4b-44ba-ab78-a7056f3e374c",
      "metadata": {
        "id": "6d409231-cf4b-44ba-ab78-a7056f3e374c",
        "colab": {
          "base_uri": "https://localhost:8080/"
        },
        "outputId": "13a77247-c4c3-453f-d2c1-19f11eefbf64"
      },
      "outputs": [
        {
          "output_type": "stream",
          "name": "stdout",
          "text": [
            "Age is defined from\n",
            "29  to  77\n"
          ]
        }
      ],
      "source": [
        "bin_size = 10  # Specify the size of each interval\n",
        "min_age = heart['age'].min()  # Minimum age in the dataset\n",
        "max_age = heart['age'].max()  # Maximum age in the dataset\n",
        "bins = list(range(min_age, max_age + bin_size, bin_size))\n",
        "labels = [f\"{i}-{i+bin_size-1}\" for i in range(min_age, max_age, bin_size)]\n",
        "heart['age_group'] = pd.cut(heart['age'], bins=bins, labels=labels, include_lowest=True)\n",
        "\n",
        "#printing min_age and max_age\n",
        "print('Age is defined from')\n",
        "print(min_age, ' to ', max_age)"
      ]
    },
    {
      "cell_type": "code",
      "execution_count": null,
      "id": "1ad2e6e3-2247-41bb-a2fe-236d4d5c3040",
      "metadata": {
        "id": "1ad2e6e3-2247-41bb-a2fe-236d4d5c3040",
        "colab": {
          "base_uri": "https://localhost:8080/",
          "height": 515
        },
        "outputId": "6ef0d037-9b18-4663-ca9c-c987d3ec0deb"
      },
      "outputs": [
        {
          "output_type": "execute_result",
          "data": {
            "text/plain": [
              "<Axes: title={'center': 'Age Group Vs Number of Patients'}, xlabel='age_group', ylabel='Number of Patients'>"
            ]
          },
          "metadata": {},
          "execution_count": 10
        },
        {
          "output_type": "display_data",
          "data": {
            "text/plain": [
              "<Figure size 640x480 with 1 Axes>"
            ],
            "image/png": "[encoded data removed]"
          },
          "metadata": {}
        }
      ],
      "source": [
        "heart.groupby('age_group', observed=False)['target'].sum().plot(kind='bar',title='Age Group Vs Number of Patients', ylabel='Number of Patients', color='dodgerblue')"
      ]
    },
    {
      "cell_type": "markdown",
      "id": "5de43838-c4ab-4bed-871d-6e409fe8c103",
      "metadata": {
        "id": "5de43838-c4ab-4bed-871d-6e409fe8c103"
      },
      "source": [
        "✅ Here we can see that from age 49-58 has highest chance of getting attack followed by\n",
        "\n",
        "\n",
        "*   39-48\n",
        "*   59-68\n",
        "*   29-38\n",
        "*   69-78\n",
        "\n",
        "\n",
        "\n",
        "\n",
        "\n",
        "\n",
        "\n"
      ]
    },
    {
      "cell_type": "markdown",
      "id": "16cc8099-f30b-4e3d-b93b-1cbbf4366c63",
      "metadata": {
        "id": "16cc8099-f30b-4e3d-b93b-1cbbf4366c63"
      },
      "source": [
        "❓ But does this age group is evenly spread"
      ]
    },
    {
      "cell_type": "code",
      "execution_count": null,
      "id": "0f3cb486-d726-4adf-a685-01feeb5d4d39",
      "metadata": {
        "id": "0f3cb486-d726-4adf-a685-01feeb5d4d39",
        "colab": {
          "base_uri": "https://localhost:8080/",
          "height": 423
        },
        "outputId": "0308fab9-bc90-4da2-dfaf-c304497c83d4"
      },
      "outputs": [
        {
          "output_type": "execute_result",
          "data": {
            "text/plain": [
              "<Axes: ylabel='Age Groups'>"
            ]
          },
          "metadata": {},
          "execution_count": 11
        },
        {
          "output_type": "display_data",
          "data": {
            "text/plain": [
              "<Figure size 640x480 with 1 Axes>"
            ],
            "image/png": "[encoded data removed]"
          },
          "metadata": {}
        }
      ],
      "source": [
        "heart['age_group'].value_counts().plot(kind='pie', ylabel='Age Groups' ,labeldistance=0.6)"
      ]
    },
    {
      "cell_type": "markdown",
      "id": "a8902de5-2381-4308-8eb0-2fa27bc2e6ca",
      "metadata": {
        "id": "a8902de5-2381-4308-8eb0-2fa27bc2e6ca"
      },
      "source": [
        "💡 As we can see this data is not evenly distributed and has more records of age_group 49-58, slightly followed by 59-68 and then 39-48. Other age group has less records. Let's find percentage of risk per group instead"
      ]
    },
    {
      "cell_type": "code",
      "execution_count": null,
      "id": "e36d63dc-f7ef-4917-84db-bbacf92af588",
      "metadata": {
        "id": "e36d63dc-f7ef-4917-84db-bbacf92af588",
        "colab": {
          "base_uri": "https://localhost:8080/",
          "height": 515
        },
        "outputId": "8a0ff20d-0f08-47da-f08f-35b57177e534"
      },
      "outputs": [
        {
          "output_type": "execute_result",
          "data": {
            "text/plain": [
              "<Axes: title={'center': 'Age Groups Vs Percentage of Patients'}, xlabel='age_group', ylabel='Patients in Percent(%)'>"
            ]
          },
          "metadata": {},
          "execution_count": 12
        },
        {
          "output_type": "display_data",
          "data": {
            "text/plain": [
              "<Figure size 640x480 with 1 Axes>"
            ],
            "image/png": "[encoded data removed]"
          },
          "metadata": {}
        }
      ],
      "source": [
        "age_per = heart.groupby('age_group', observed=False)['target'].mean()\n",
        "age_per = age_per * 100\n",
        "age_per.plot(kind='bar', ylim=(0, 100), title='Age Groups Vs Percentage of Patients', ylabel='Patients in Percent(%)', color='dodgerblue')"
      ]
    },
    {
      "cell_type": "markdown",
      "id": "9e74344d-08fe-457b-9e1d-edce087ae4f1",
      "metadata": {
        "id": "9e74344d-08fe-457b-9e1d-edce087ae4f1"
      },
      "source": [
        "Now this gives us more accurate discreption about which age group has high rate of getting heart attacks which is from age 29-38 followed by\n",
        "*   39-48\n",
        "*   69-78\n",
        "*   49-58\n",
        "*   59-68\n",
        "\n",
        "\n"
      ]
    },
    {
      "cell_type": "markdown",
      "source": [
        "# Conclusion"
      ],
      "metadata": {
        "id": "cpExwX2IapEj"
      },
      "id": "cpExwX2IapEj"
    },
    {
      "cell_type": "markdown",
      "source": [
        "We have found out that females have high risk of getting heart attacks. Then we found out a symptom which indicate that above 197 cholestrol level person is prone to heart attack and lastly found out age-wise risk of getting heart attack."
      ],
      "metadata": {
        "id": "iP-Ol2RDa0B6"
      },
      "id": "iP-Ol2RDa0B6"
    }
  ],
  "metadata": {
    "kernelspec": {
      "display_name": "Python 3 (ipykernel)",
      "language": "python",
      "name": "python3"
    },
    "language_info": {
      "codemirror_mode": {
        "name": "ipython",
        "version": 3
      },
      "file_extension": ".py",
      "mimetype": "text/x-python",
      "name": "python",
      "nbconvert_exporter": "python",
      "pygments_lexer": "ipython3",
      "version": "3.11.3"
    },
    "colab": {
      "provenance": []
    }
  },
  "nbformat": 4,
  "nbformat_minor": 5
}